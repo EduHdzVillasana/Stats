{
 "metadata": {
  "language_info": {
   "codemirror_mode": {
    "name": "ipython",
    "version": 3
   },
   "file_extension": ".py",
   "mimetype": "text/x-python",
   "name": "python",
   "nbconvert_exporter": "python",
   "pygments_lexer": "ipython3",
   "version": "3.9.0-final"
  },
  "orig_nbformat": 2,
  "kernelspec": {
   "name": "python3",
   "display_name": "Python 3.9.0 64-bit",
   "metadata": {
    "interpreter": {
     "hash": "1f65e174391277f634e70871feaa21300658cb740b5dabfc689c4c43dbc10e3e"
    }
   }
  }
 },
 "nbformat": 4,
 "nbformat_minor": 2,
 "cells": [
  {
   "source": [
    "# Notebook con temas de estadística"
   ],
   "cell_type": "markdown",
   "metadata": {}
  },
  {
   "source": [
    "## Estimación de intervalos"
   ],
   "cell_type": "markdown",
   "metadata": {}
  },
  {
   "source": [
    "### Estimación de medias con $n>30$\n",
    "**Teorema**\n",
    "Si $\\overline{x}$ es el valor de la media de una muestra aleatoria de tamaño $n$ de una población notmal con varianza conocida $\\sigma^2$, entonces\n",
    "\n",
    "$$\\large{\\overline{x}-Z_{\\frac{\\alpha}{2}}\\cdot\\frac{\\sigma}{\\sqrt{n}}<\\mu<\\overline{x}+Z_{\\frac{\\alpha}{2}}\\cdot\\frac{\\sigma}{\\sqrt{n}}}$$\n",
    "\n",
    "es un intervalo con $(1-\\alpha)\\cdot100\\%$ de confianza para la media de la población"
   ],
   "cell_type": "markdown",
   "metadata": {}
  },
  {
   "source": [
    "### Estimación de medias con $n<30$\n",
    "**Teorema** Si $\\overline{x}$ y $s$ spn los valores de media y desviación estandar de una muestra aleatoria de tamaño $n$ de una población normal, entonces\n",
    "$$\\large{\\overline{x}-\\large{t}_{\\frac{\\alpha}{2},n-1}\\cdot\\frac{s}{\\sqrt{n}}<\\mu<\\overline{x}-\\large{t}_{\\frac{\\alpha}{2},n-1}\\cdot\\frac{s}{\\sqrt{n}}}$$\n",
    "\n",
    "es un intervalo con $(1-\\alpha)\\cdot100\\%$ de confianza para la media de la población"
   ],
   "cell_type": "markdown",
   "metadata": {}
  },
  {
   "source": [
    "### Estimación de diferencia de medias con $n_1 \\text{ y } n_2 \\geq 30$\n",
    "**Teorema** Si $\\overline{x}_1 \\text{ y } \\overline{x}_2$ son los valores de las medias de dos muestras aleatorias independientes de tamaño $n_1 \\text{ y } n_2$ de una población normal con varianzas conocidas $\\sigma_1^2 \\text{ y } \\sigma_2^2 $, entonces\n",
    "$$\\large{(\\overline{x}_1-\\overline{x}_2)-Z_{\\frac{\\alpha}{2}}\\cdot\\sqrt{\\frac{\\sigma_1^2}{n_1}+\\frac{\\sigma_2^2}{n_2}}<\\mu_1-\\mu_2<(\\overline{x}_1-\\overline{x}_2)+Z_{\\frac{\\alpha}{2}}\\cdot\\sqrt{\\frac{\\sigma_1^2}{n_1}+\\frac{\\sigma_2^2}{n_2}}}$$\n",
    "\n",
    "es un intervalo con $(1-\\alpha)\\cdot 100\\%$ de confianza para la diferencia entre las dos medias poblacionales"
   ],
   "cell_type": "markdown",
   "metadata": {}
  },
  {
   "source": [
    "### Estimación de diferencia de medias con $n_1 \\text{ o } n_2 < 30$\n",
    "**Teorema** Si $\\overline{x}_1 \\text{, } \\overline{x}_2 \\text{, }\\sigma_1 \\text{ y } \\sigma_2$ son valores de las medias y de las desviaciones estandar de dos muestras aleatorias independientes de tamaño $n_1 \\text{ y } n_2$ con poblaciones normales entonces\n",
    "$$\\large{(\\overline{x}_1 - \\overline{x}_2)-\\large{t}_{\\frac{\\alpha}{2},n_1+n_2-2}\\cdot S_p \\sqrt{\\frac{1}{n_1}}+\\frac{1}{n_2}<\\mu_1-\\mu_2<(\\overline{x}_1 - \\overline{x}_2)+\\large{t}_{\\frac{\\alpha}{2},n_1+n_2-2}\\cdot S_p \\sqrt{\\frac{1}{n_1}}+\\frac{1}{n_2}}$$\n",
    "\n",
    "$$\\large{S_p = \\sqrt{\\frac{(n_1-1)S_1^2+(n_2-1)S_2^2}{n_1+n_2-2}}}$$\n",
    "\n",
    "es un intervalo con $(1-\\alpha)\\cdot 100\\%$ de confianza para la diferencia entre las dos medias poblacionales"
   ],
   "cell_type": "markdown",
   "metadata": {}
  },
  {
   "source": [
    "### Estimación de proporciones\n",
    "**Teorema** Si $X$ es una variable aleatoria binomial con parámetros $n \\text{ y } \\theta$, $n$ es grande y $\\hat{theta} = \\frac{X}{n}$, entonces\n",
    "$$\\large{\\hat{\\theta}-Z_{\\frac{\\alpha}{2}}\\cdot \\sqrt{\\frac{\\hat{\\theta}(1-\\hat{\\theta})}{n}}<\\theta<\\hat{\\theta}+Z_{\\frac{\\alpha}{2}}\\cdot \\sqrt{\\frac{\\hat{\\theta}(1-\\hat{\\theta})}{n}}}$$\n",
    "\n",
    "es una aproximación con $(1-\\alpha)100\\%$ de confianza para el intervalo de $\\theta$"
   ],
   "cell_type": "markdown",
   "metadata": {}
  },
  {
   "source": [
    "### Estimación de diferencia entre proporciones\n",
    "**Teorema** Si $X_1$ es una variable aleatoria de distribución binomial con parámetros $n_1 \\text{ y }\\theta_1$, $X_2$ es una variable aleatoria de distribución binomial con parámetros $n_2 \\text{ y }\\theta_2$, $n_1 \\text{ y } n_2$ son grandes y $\\hat{\\theta_1} = \\frac{x_1}{n_1} \\text{ y } \\hat{\\theta_2} = \\frac{x_2}{n_2}$, entonces\n",
    "$$\\large{(\\hat{\\theta_1}-\\hat{\\theta_2})-Z_{\\frac{\\alpha}{2}} \\cdot \\sqrt{\\frac{\\hat{\\theta_1}(1-\\hat{\\theta_1})}{n_1} + \\frac{\\hat{\\theta_2}(1-\\hat{\\theta_2})}{n_2}} < \\theta_1 - \\theta_2 < (\\hat{\\theta_1}-\\hat{\\theta_2})+Z_{\\frac{\\alpha}{2}} \\cdot \\sqrt{\\frac{\\hat{\\theta_1}(1-\\hat{\\theta_1})}{n_1} + \\frac{\\hat{\\theta_2}(1-\\hat{\\theta_2})}{n_2}}}$$\n",
    "\n",
    "es una aproximación con $(1-\\alpha)100\\%$ de confianza para el intervalo de $\\theta_1-\\theta_2$"
   ],
   "cell_type": "markdown",
   "metadata": {}
  },
  {
   "source": [
    "### Estimación de Varianzas\n",
    "**Teorema** Si $s^2$ es el valor de la varianza de una muestra aleatoria de tamaño $n$ para una población normal, entonces\n",
    "$$\\large{\\frac{(n-1)s^2}{X_{\\alpha/2,n-1}^2}<\\sigma^2<\\frac{(n-1)s^2}{X_{\\alpha/2,n-1}^2}}$$\n",
    "\n",
    "es un intervalo con $(1-\\alpha)100\\%$ de confianza para $\\sigma^2$"
   ],
   "cell_type": "markdown",
   "metadata": {}
  },
  {
   "source": [
    "### Estimación de división de varianzas\n",
    "**Teorema** Si $s_1^2 \\text{ y } s_2^2$ son los valores de varianza de dos muestras aleatorias independientes de tamaño $n_1 \\text{ y } n_2$ de poblaciones normales, entonces\n",
    "$$\\large{\\frac{s_1^2}{s_2^2}\\cdot \\frac{1}{f_{\\alpha/2,n_1-1,n_2-1}}<\\frac{\\sigma_1^2}{\\sigma_2^2}<\\frac{s_1^2}{s_2^2}\\cdot f_{\\alpha/2,n_2-1,n_1-1}}$$\n",
    "es un intervalo con $(1-\\alpha)100\\%$ de confianza para $\\frac{\\sigma_1^2}{\\sigma_2^2}$"
   ],
   "cell_type": "markdown",
   "metadata": {}
  },
  {
   "source": [
    "## Pruebas de Hipótesis"
   ],
   "cell_type": "markdown",
   "metadata": {}
  },
  {
   "source": [
    "### Pruebas con una media con $n \\geq 30$\n",
    "Suponga que se tiene la hipótesis nula $H_0: \\mu = \\mu_0$ contra la hipótesis alternativa $H_1: \\mu \\neq \\mu_0\\text{, } \\mu > \\mu_0 \\text{ ó } \\mu < \\mu_0$ en base a una muestra aleatoria de tamaño $n$ de una población normal de varianza conocida $\\sigma^2$. Las regiones críticas de las respectivas hipótesis alternativas son \n",
    "$$|Z| \\geqq Z_{\\alpha/2}$$\n",
    "$$Z\\geqq Z_\\alpha$$\n",
    "$$ Z \\geqq -Z_\\alpha$$\n",
    "\n",
    "\n",
    "Donde\n",
    "\n",
    "$$\\large{Z=\\frac{\\overline{x}-\\mu_0}{\\sigma / \\sqrt{n}}}$$"
   ],
   "cell_type": "markdown",
   "metadata": {}
  },
  {
   "source": [
    "### Pruebas con una medio con $n < 30$\n",
    "Suponga que se tiene la hipótesis nula $H_0: \\mu = \\mu_0$ contra la hipótesis alternativa $H_1: \\mu \\neq \\mu_0\\text{, } \\mu > \\mu_0 \\text{ ó } \\mu < \\mu_0$ en base a una muestra aleatoria de tamaño $n$ de una población normal de varianza muestral $s^2$. Las regiones críticas de las respectivas hipótesis alternativas son \n",
    "$$|t| \\geqq t_{\\alpha/2,n-1}$$\n",
    "$$t\\geqq t_{\\alpha,n-1}$$\n",
    "$$ t \\geqq -t_{\\alpha,n-1}$$\n",
    "\n",
    "\n",
    "Donde\n",
    "\n",
    "$$\\large{t=\\frac{\\overline{x}-\\mu_0}{s / \\sqrt{n}}}$$"
   ],
   "cell_type": "markdown",
   "metadata": {}
  },
  {
   "source": [
    "### Pruebas con diferencias de medias con $n_1 \\text{ y } n_2 \\geq 30 \\text{; y } \\sigma_1^2 \\text{ y } \\sigma_2^2$ son conocidas\n",
    "Suponga que se tiene la hipótesis nula $H_0: \\mu_1 - \\mu_2 = \\delta$ contra la hipótesis alternativa $H_1: \\mu_1-\\mu_2 \\neq \\delta\\text{, } \\mu_1-\\mu_2 > \\delta \\text{ ó } \\mu_1-\\mu_2< \\delta$ en base a dos muestras aleatorias de tamaño $n_1 \\text{ y } n_2$ de una población normal de varianza conocida $\\sigma_1^2 \\text{ y } \\sigma_2^2$ y medias muestrales $\\overline{x_1} \\text{ y } \\overline{x_2}$. Las regiones críticas de las respectivas hipótesis alternativas son \n",
    "$$|Z| \\geqq Z_{\\alpha/2}$$\n",
    "$$Z\\geqq Z_\\alpha$$\n",
    "$$ Z \\geqq -Z_\\alpha$$\n",
    "\n",
    "\n",
    "Donde\n",
    "\n",
    "$$\\large{Z=\\frac{\\overline{x_1}-\\overline{x_2}-\\delta}{\\sqrt{\\frac{\\sigma_1^2}{n_1}+\\frac{\\sigma_2^2}{n_2}}}}$$"
   ],
   "cell_type": "markdown",
   "metadata": {}
  },
  {
   "source": [
    "### Pruebas con diferencias de medias con $n_1 \\text{ y } n_2 < 30$\n",
    "Suponga que se tiene la hipótesis nula $H_0: \\mu_1 - \\mu_2 = \\delta$ contra la hipótesis alternativa $H_1: \\mu_1-\\mu_2 \\neq \\delta\\text{, } \\mu_1-\\mu_2 > \\delta \\text{ ó } \\mu_1-\\mu_2< \\delta$ en base a dos muestras aleatorias de tamaño $n_1 \\text{ y } n_2$ de una población normal de varianza conocida $\\sigma_1^2 \\text{ y } \\sigma_2^2$ y medias muestrales $\\overline{x_1} \\text{ y } \\overline{x_2}$. Las regiones críticas de las respectivas hipótesis alternativas son \n",
    "$$|t| \\geqq t_{\\alpha/2,n_1+n_2-2}$$\n",
    "$$t\\geqq t_{\\alpha,n_1+n_2-2}$$\n",
    "$$ t \\geqq -t_{\\alpha,n_1+n_2-2}$$\n",
    "\n",
    "\n",
    "Donde\n",
    "\n",
    "$$\\large{t=\\frac{\\overline{x_1}-\\overline{x_2}-\\delta}{S_p\\sqrt{\\frac{1}{n_1}+\\frac{1}{n_2}}}}$$\n",
    "$$\\large{S_p = \\sqrt{\\frac{(n_1-1)S_1^2+(n_2-1)S_2^2}{n_1+n_2-2}}}$$"
   ],
   "cell_type": "markdown",
   "metadata": {}
  }
 ]
}